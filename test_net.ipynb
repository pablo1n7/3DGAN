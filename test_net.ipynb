{
 "cells": [
  {
   "cell_type": "code",
   "execution_count": 1,
   "metadata": {},
   "outputs": [
    {
     "name": "stderr",
     "output_type": "stream",
     "text": [
      "shapely.geometry.Polygon not available!\n",
      "Traceback (most recent call last):\n",
      "  File \"/home/pablo/miniconda3/lib/python3.6/site-packages/trimesh/creation.py\", line 22, in <module>\n",
      "    from shapely.geometry import Polygon\n",
      "ModuleNotFoundError: No module named 'shapely'\n"
     ]
    }
   ],
   "source": [
    "from utils.ObjectData import ObjectDataset\n",
    "from net.Generator import Generator \n",
    "from utils.utils import save_plot_voxels\n",
    "from utils.utils import cubes2mesh\n",
    "\n",
    "import torch\n",
    "from torch.utils.data import DataLoader\n",
    "\n",
    "\n",
    "side_len = 32\n",
    "z_dim = 64\n",
    "device = \"cpu\"\n",
    "batch_size = 10\n",
    "\n",
    "netG = Generator(side_len, z_dim).to(device)\n",
    "netG.load_state_dict(torch.load(\"checkpoint_toilet/tlet_checkpoint_4471.pth\")[\"netG\"])\n",
    "\n",
    "fixed_noise = torch.randn(batch_size, z_dim, 1, 1, device=device)\n",
    "fake = netG(fixed_noise).reshape(-1, side_len, side_len, side_len)"
   ]
  },
  {
   "cell_type": "code",
   "execution_count": 2,
   "metadata": {},
   "outputs": [],
   "source": [
    "for i, f in enumerate(fake):\n",
    "    cubes2mesh(\"test_{}\".format(i), f.detach().cpu().numpy(), save=True)"
   ]
  },
  {
   "cell_type": "code",
   "execution_count": 3,
   "metadata": {},
   "outputs": [],
   "source": [
    "save_plot_voxels(fake, \"./toilet_fake\", 0)"
   ]
  }
 ],
 "metadata": {
  "kernelspec": {
   "display_name": "Python 3",
   "language": "python",
   "name": "python3"
  },
  "language_info": {
   "codemirror_mode": {
    "name": "ipython",
    "version": 3
   },
   "file_extension": ".py",
   "mimetype": "text/x-python",
   "name": "python",
   "nbconvert_exporter": "python",
   "pygments_lexer": "ipython3",
   "version": "3.6.8"
  }
 },
 "nbformat": 4,
 "nbformat_minor": 4
}
